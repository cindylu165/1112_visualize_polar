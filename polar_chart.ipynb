{
 "cells": [
  {
   "cell_type": "code",
   "execution_count": 2,
   "metadata": {},
   "outputs": [],
   "source": [
    "from pymongo import MongoClient\n",
    "import configparser\n",
    "import pandas as pd\n",
    "import re\n",
    "from nltk.corpus import wordnet\n",
    "import numpy as np\n",
    "from flask import Flask, render_template\n",
    "# import plotly.graph_objs as go\n",
    "import plotly.graph_objects as go\n",
    "import plotly.express as px"
   ]
  },
  {
   "attachments": {},
   "cell_type": "markdown",
   "metadata": {},
   "source": [
    "### 資料處理"
   ]
  },
  {
   "cell_type": "code",
   "execution_count": 12,
   "metadata": {},
   "outputs": [],
   "source": [
    "_df = pd.read_csv(\"./data.csv\")"
   ]
  },
  {
   "cell_type": "code",
   "execution_count": 4,
   "metadata": {},
   "outputs": [],
   "source": [
    "# 建立字典，將年月份對應到角度\n",
    "month_labels = ['2021-01-01', '2021-02-01', '2021-03-01', '2021-04-01', '2021-05-01', '2021-06-01',\n",
    "               '2021-07-01', '2021-08-01', '2021-09-01', '2021-10-01', '2021-11-01', '2021-12-01',\n",
    "               '2022-01-01', '2022-02-01', '2022-03-01', '2022-04-01', '2022-05-01', '2022-06-01',\n",
    "               '2022-07-01', '2022-08-01', '2022-09-01', '2022-10-01', '2022-11-01', '2022-12-01']\n",
    "angle_mapping = [(i * 15) % 360 for i in range(len(month_labels))]\n",
    "dict_date_angle = dict(zip(month_labels, angle_mapping))\n"
   ]
  },
  {
   "cell_type": "code",
   "execution_count": 6,
   "metadata": {},
   "outputs": [],
   "source": [
    "def transform(text):\n",
    "    text = str(text)\n",
    "    year = text[:4]\n",
    "    month = text[-2:]\n",
    "    return year + \"-\" + month"
   ]
  },
  {
   "cell_type": "code",
   "execution_count": 7,
   "metadata": {},
   "outputs": [],
   "source": [
    "# 將日期轉換為角度\n",
    "def date_to_angle(date):\n",
    "    date = date.strftime(\"%Y-%m-%d\")\n",
    "    return dict_date_angle[date]"
   ]
  },
  {
   "cell_type": "code",
   "execution_count": 14,
   "metadata": {},
   "outputs": [],
   "source": [
    "_df['monitormonth'] = pd.to_datetime(_df[\"monitormonth\"].apply(lambda x: transform(x)), format='%Y-%m')"
   ]
  },
  {
   "cell_type": "code",
   "execution_count": 16,
   "metadata": {},
   "outputs": [
    {
     "data": {
      "text/html": [
       "<div>\n",
       "<style scoped>\n",
       "    .dataframe tbody tr th:only-of-type {\n",
       "        vertical-align: middle;\n",
       "    }\n",
       "\n",
       "    .dataframe tbody tr th {\n",
       "        vertical-align: top;\n",
       "    }\n",
       "\n",
       "    .dataframe thead th {\n",
       "        text-align: right;\n",
       "    }\n",
       "</style>\n",
       "<table border=\"1\" class=\"dataframe\">\n",
       "  <thead>\n",
       "    <tr style=\"text-align: right;\">\n",
       "      <th></th>\n",
       "      <th>siteid</th>\n",
       "      <th>sitename</th>\n",
       "      <th>itemid</th>\n",
       "      <th>itemname</th>\n",
       "      <th>itemengname</th>\n",
       "      <th>itemunit</th>\n",
       "      <th>monitormonth</th>\n",
       "      <th>concentration</th>\n",
       "    </tr>\n",
       "  </thead>\n",
       "  <tbody>\n",
       "    <tr>\n",
       "      <th>0</th>\n",
       "      <td>6</td>\n",
       "      <td>板橋</td>\n",
       "      <td>1</td>\n",
       "      <td>二氧化硫</td>\n",
       "      <td>SO2</td>\n",
       "      <td>ppb</td>\n",
       "      <td>1982-07-01</td>\n",
       "      <td>40.6</td>\n",
       "    </tr>\n",
       "    <tr>\n",
       "      <th>1</th>\n",
       "      <td>6</td>\n",
       "      <td>板橋</td>\n",
       "      <td>38</td>\n",
       "      <td>相對濕度</td>\n",
       "      <td>RH</td>\n",
       "      <td>percent</td>\n",
       "      <td>1982-07-01</td>\n",
       "      <td>15.86</td>\n",
       "    </tr>\n",
       "    <tr>\n",
       "      <th>2</th>\n",
       "      <td>67</td>\n",
       "      <td>三重</td>\n",
       "      <td>5</td>\n",
       "      <td>氮氧化物</td>\n",
       "      <td>NOx</td>\n",
       "      <td>ppb</td>\n",
       "      <td>1982-07-01</td>\n",
       "      <td>189.54</td>\n",
       "    </tr>\n",
       "    <tr>\n",
       "      <th>3</th>\n",
       "      <td>6</td>\n",
       "      <td>板橋</td>\n",
       "      <td>9</td>\n",
       "      <td>非甲烷碳氫化合物</td>\n",
       "      <td>NMHC</td>\n",
       "      <td>ppm</td>\n",
       "      <td>1982-07-01</td>\n",
       "      <td>x</td>\n",
       "    </tr>\n",
       "    <tr>\n",
       "      <th>4</th>\n",
       "      <td>6</td>\n",
       "      <td>板橋</td>\n",
       "      <td>7</td>\n",
       "      <td>二氧化氮</td>\n",
       "      <td>NO2</td>\n",
       "      <td>ppb</td>\n",
       "      <td>1982-07-01</td>\n",
       "      <td>23</td>\n",
       "    </tr>\n",
       "    <tr>\n",
       "      <th>...</th>\n",
       "      <td>...</td>\n",
       "      <td>...</td>\n",
       "      <td>...</td>\n",
       "      <td>...</td>\n",
       "      <td>...</td>\n",
       "      <td>...</td>\n",
       "      <td>...</td>\n",
       "      <td>...</td>\n",
       "    </tr>\n",
       "    <tr>\n",
       "      <th>366765</th>\n",
       "      <td>85</td>\n",
       "      <td>大城</td>\n",
       "      <td>6</td>\n",
       "      <td>一氧化氮</td>\n",
       "      <td>NO</td>\n",
       "      <td>ppb</td>\n",
       "      <td>2023-04-01</td>\n",
       "      <td>1.1</td>\n",
       "    </tr>\n",
       "    <tr>\n",
       "      <th>366766</th>\n",
       "      <td>85</td>\n",
       "      <td>大城</td>\n",
       "      <td>7</td>\n",
       "      <td>二氧化氮</td>\n",
       "      <td>NO2</td>\n",
       "      <td>ppb</td>\n",
       "      <td>2023-04-01</td>\n",
       "      <td>6.8</td>\n",
       "    </tr>\n",
       "    <tr>\n",
       "      <th>366767</th>\n",
       "      <td>85</td>\n",
       "      <td>大城</td>\n",
       "      <td>8</td>\n",
       "      <td>總碳氫化物</td>\n",
       "      <td>THC</td>\n",
       "      <td>ppm</td>\n",
       "      <td>2023-04-01</td>\n",
       "      <td>2.22</td>\n",
       "    </tr>\n",
       "    <tr>\n",
       "      <th>366768</th>\n",
       "      <td>85</td>\n",
       "      <td>大城</td>\n",
       "      <td>9</td>\n",
       "      <td>非甲烷碳氫化合物</td>\n",
       "      <td>NMHC</td>\n",
       "      <td>ppm</td>\n",
       "      <td>2023-04-01</td>\n",
       "      <td>0.01</td>\n",
       "    </tr>\n",
       "    <tr>\n",
       "      <th>366769</th>\n",
       "      <td>85</td>\n",
       "      <td>大城</td>\n",
       "      <td>10</td>\n",
       "      <td>風速</td>\n",
       "      <td>WIND_SPEED</td>\n",
       "      <td>m/sec</td>\n",
       "      <td>2023-04-01</td>\n",
       "      <td>3.5</td>\n",
       "    </tr>\n",
       "  </tbody>\n",
       "</table>\n",
       "<p>366770 rows × 8 columns</p>\n",
       "</div>"
      ],
      "text/plain": [
       "        siteid sitename  itemid  itemname itemengname itemunit monitormonth  \\\n",
       "0            6       板橋       1      二氧化硫         SO2      ppb   1982-07-01   \n",
       "1            6       板橋      38      相對濕度          RH  percent   1982-07-01   \n",
       "2           67       三重       5      氮氧化物         NOx      ppb   1982-07-01   \n",
       "3            6       板橋       9  非甲烷碳氫化合物        NMHC      ppm   1982-07-01   \n",
       "4            6       板橋       7      二氧化氮         NO2      ppb   1982-07-01   \n",
       "...        ...      ...     ...       ...         ...      ...          ...   \n",
       "366765      85       大城       6      一氧化氮          NO      ppb   2023-04-01   \n",
       "366766      85       大城       7      二氧化氮         NO2      ppb   2023-04-01   \n",
       "366767      85       大城       8     總碳氫化物         THC      ppm   2023-04-01   \n",
       "366768      85       大城       9  非甲烷碳氫化合物        NMHC      ppm   2023-04-01   \n",
       "366769      85       大城      10        風速  WIND_SPEED    m/sec   2023-04-01   \n",
       "\n",
       "       concentration  \n",
       "0               40.6  \n",
       "1              15.86  \n",
       "2             189.54  \n",
       "3                  x  \n",
       "4                 23  \n",
       "...              ...  \n",
       "366765           1.1  \n",
       "366766           6.8  \n",
       "366767          2.22  \n",
       "366768          0.01  \n",
       "366769           3.5  \n",
       "\n",
       "[366770 rows x 8 columns]"
      ]
     },
     "execution_count": 16,
     "metadata": {},
     "output_type": "execute_result"
    }
   ],
   "source": [
    "_df"
   ]
  },
  {
   "cell_type": "code",
   "execution_count": 17,
   "metadata": {},
   "outputs": [
    {
     "name": "stdout",
     "output_type": "stream",
     "text": [
      "1982-07-01 ~ 2023-04-01\n"
     ]
    }
   ],
   "source": [
    "# find the min of monitormonth\n",
    "min_date = _df['monitormonth'].min()\n",
    "max_date = _df['monitormonth'].max()\n",
    "print(min_date.strftime('%Y-%m-%d'), \"~\", max_date.strftime('%Y-%m-%d'))"
   ]
  },
  {
   "cell_type": "code",
   "execution_count": 18,
   "metadata": {},
   "outputs": [],
   "source": [
    "start_date = pd.to_datetime('2021-01', format='%Y-%m')\n",
    "end_date = pd.to_datetime('2022-12', format='%Y-%m')\n",
    "filtered_df = _df[(_df['monitormonth'] >= start_date) & (_df['monitormonth'] <= end_date)]"
   ]
  },
  {
   "cell_type": "code",
   "execution_count": 21,
   "metadata": {},
   "outputs": [
    {
     "data": {
      "text/plain": [
       "['富貴角',\n",
       " '麥寮',\n",
       " '關山',\n",
       " '馬公',\n",
       " '金門',\n",
       " '馬祖',\n",
       " '埔里',\n",
       " '復興',\n",
       " '永和',\n",
       " '竹山',\n",
       " '中壢',\n",
       " '三重',\n",
       " '冬山',\n",
       " '宜蘭',\n",
       " '陽明',\n",
       " '花蓮',\n",
       " '臺東',\n",
       " '恆春',\n",
       " '潮州',\n",
       " '屏東',\n",
       " '小港',\n",
       " '前鎮',\n",
       " '前金',\n",
       " '左營',\n",
       " '楠梓',\n",
       " '林園',\n",
       " '大寮',\n",
       " '鳳山',\n",
       " '仁武',\n",
       " '橋頭',\n",
       " '美濃',\n",
       " '臺南',\n",
       " '安南',\n",
       " '善化',\n",
       " '新營',\n",
       " '嘉義',\n",
       " '臺西',\n",
       " '朴子',\n",
       " '新港',\n",
       " '崙背',\n",
       " '斗六',\n",
       " '南投',\n",
       " '二林',\n",
       " '線西',\n",
       " '彰化',\n",
       " '西屯',\n",
       " '忠明',\n",
       " '大里',\n",
       " '沙鹿',\n",
       " '豐原',\n",
       " '三義',\n",
       " '苗栗',\n",
       " '頭份',\n",
       " '新竹',\n",
       " '竹東',\n",
       " '湖口',\n",
       " '龍潭',\n",
       " '平鎮',\n",
       " '觀音',\n",
       " '大園',\n",
       " '桃園',\n",
       " '大同',\n",
       " '松山',\n",
       " '古亭',\n",
       " '萬華',\n",
       " '中山',\n",
       " '士林',\n",
       " '淡水',\n",
       " '林口',\n",
       " '菜寮',\n",
       " '新莊',\n",
       " '板橋',\n",
       " '土城',\n",
       " '新店',\n",
       " '萬里',\n",
       " '汐止',\n",
       " '基隆',\n",
       " '大城']"
      ]
     },
     "execution_count": 21,
     "metadata": {},
     "output_type": "execute_result"
    }
   ],
   "source": [
    "filtered_df['sitename'].unique().tolist()"
   ]
  },
  {
   "cell_type": "code",
   "execution_count": 50,
   "metadata": {},
   "outputs": [],
   "source": [
    "loc = filtered_df[filtered_df['sitename']==\"埔里\"]"
   ]
  },
  {
   "cell_type": "code",
   "execution_count": 51,
   "metadata": {},
   "outputs": [],
   "source": []
  },
  {
   "cell_type": "code",
   "execution_count": 54,
   "metadata": {},
   "outputs": [],
   "source": []
  },
  {
   "cell_type": "code",
   "execution_count": 55,
   "metadata": {},
   "outputs": [
    {
     "data": {
      "text/html": [
       "<div>\n",
       "<style scoped>\n",
       "    .dataframe tbody tr th:only-of-type {\n",
       "        vertical-align: middle;\n",
       "    }\n",
       "\n",
       "    .dataframe tbody tr th {\n",
       "        vertical-align: top;\n",
       "    }\n",
       "\n",
       "    .dataframe thead th {\n",
       "        text-align: right;\n",
       "    }\n",
       "</style>\n",
       "<table border=\"1\" class=\"dataframe\">\n",
       "  <thead>\n",
       "    <tr style=\"text-align: right;\">\n",
       "      <th></th>\n",
       "      <th>siteid</th>\n",
       "      <th>sitename</th>\n",
       "      <th>itemid</th>\n",
       "      <th>itemname</th>\n",
       "      <th>itemengname</th>\n",
       "      <th>itemunit</th>\n",
       "      <th>monitormonth</th>\n",
       "      <th>concentration</th>\n",
       "    </tr>\n",
       "  </thead>\n",
       "  <tbody>\n",
       "    <tr>\n",
       "      <th>336080</th>\n",
       "      <td>72</td>\n",
       "      <td>埔里</td>\n",
       "      <td>143</td>\n",
       "      <td>小時風速值</td>\n",
       "      <td>WS_HR</td>\n",
       "      <td>m/sec</td>\n",
       "      <td>2021-01-01</td>\n",
       "      <td>1</td>\n",
       "    </tr>\n",
       "    <tr>\n",
       "      <th>336081</th>\n",
       "      <td>72</td>\n",
       "      <td>埔里</td>\n",
       "      <td>38</td>\n",
       "      <td>相對濕度</td>\n",
       "      <td>RH</td>\n",
       "      <td>%</td>\n",
       "      <td>2021-01-01</td>\n",
       "      <td>72</td>\n",
       "    </tr>\n",
       "    <tr>\n",
       "      <th>336082</th>\n",
       "      <td>72</td>\n",
       "      <td>埔里</td>\n",
       "      <td>33</td>\n",
       "      <td>細懸浮微粒</td>\n",
       "      <td>PM2.5</td>\n",
       "      <td>μg/m3</td>\n",
       "      <td>2021-01-01</td>\n",
       "      <td>22</td>\n",
       "    </tr>\n",
       "    <tr>\n",
       "      <th>336083</th>\n",
       "      <td>72</td>\n",
       "      <td>埔里</td>\n",
       "      <td>14</td>\n",
       "      <td>溫度</td>\n",
       "      <td>AMB_TEMP</td>\n",
       "      <td>℃</td>\n",
       "      <td>2021-01-01</td>\n",
       "      <td>15.2</td>\n",
       "    </tr>\n",
       "    <tr>\n",
       "      <th>336084</th>\n",
       "      <td>72</td>\n",
       "      <td>埔里</td>\n",
       "      <td>10</td>\n",
       "      <td>風速</td>\n",
       "      <td>WIND_SPEED</td>\n",
       "      <td>m/sec</td>\n",
       "      <td>2021-01-01</td>\n",
       "      <td>1.4</td>\n",
       "    </tr>\n",
       "    <tr>\n",
       "      <th>...</th>\n",
       "      <td>...</td>\n",
       "      <td>...</td>\n",
       "      <td>...</td>\n",
       "      <td>...</td>\n",
       "      <td>...</td>\n",
       "      <td>...</td>\n",
       "      <td>...</td>\n",
       "      <td>...</td>\n",
       "    </tr>\n",
       "    <tr>\n",
       "      <th>362277</th>\n",
       "      <td>72</td>\n",
       "      <td>埔里</td>\n",
       "      <td>14</td>\n",
       "      <td>溫度</td>\n",
       "      <td>AMB_TEMP</td>\n",
       "      <td>℃</td>\n",
       "      <td>2022-12-01</td>\n",
       "      <td>18</td>\n",
       "    </tr>\n",
       "    <tr>\n",
       "      <th>362278</th>\n",
       "      <td>72</td>\n",
       "      <td>埔里</td>\n",
       "      <td>31</td>\n",
       "      <td>甲烷</td>\n",
       "      <td>CH4</td>\n",
       "      <td>ppm</td>\n",
       "      <td>2022-12-01</td>\n",
       "      <td>2.1</td>\n",
       "    </tr>\n",
       "    <tr>\n",
       "      <th>362279</th>\n",
       "      <td>72</td>\n",
       "      <td>埔里</td>\n",
       "      <td>33</td>\n",
       "      <td>細懸浮微粒</td>\n",
       "      <td>PM2.5</td>\n",
       "      <td>μg/m3</td>\n",
       "      <td>2022-12-01</td>\n",
       "      <td>12</td>\n",
       "    </tr>\n",
       "    <tr>\n",
       "      <th>362280</th>\n",
       "      <td>72</td>\n",
       "      <td>埔里</td>\n",
       "      <td>38</td>\n",
       "      <td>相對濕度</td>\n",
       "      <td>RH</td>\n",
       "      <td>%</td>\n",
       "      <td>2022-12-01</td>\n",
       "      <td>69</td>\n",
       "    </tr>\n",
       "    <tr>\n",
       "      <th>362281</th>\n",
       "      <td>72</td>\n",
       "      <td>埔里</td>\n",
       "      <td>143</td>\n",
       "      <td>小時風速值</td>\n",
       "      <td>WS_HR</td>\n",
       "      <td>m/sec</td>\n",
       "      <td>2022-12-01</td>\n",
       "      <td>0.7</td>\n",
       "    </tr>\n",
       "  </tbody>\n",
       "</table>\n",
       "<p>330 rows × 8 columns</p>\n",
       "</div>"
      ],
      "text/plain": [
       "        siteid sitename  itemid itemname itemengname itemunit monitormonth  \\\n",
       "336080      72       埔里     143    小時風速值       WS_HR    m/sec   2021-01-01   \n",
       "336081      72       埔里      38     相對濕度          RH        %   2021-01-01   \n",
       "336082      72       埔里      33    細懸浮微粒       PM2.5    μg/m3   2021-01-01   \n",
       "336083      72       埔里      14       溫度    AMB_TEMP        ℃   2021-01-01   \n",
       "336084      72       埔里      10       風速  WIND_SPEED    m/sec   2021-01-01   \n",
       "...        ...      ...     ...      ...         ...      ...          ...   \n",
       "362277      72       埔里      14       溫度    AMB_TEMP        ℃   2022-12-01   \n",
       "362278      72       埔里      31       甲烷         CH4      ppm   2022-12-01   \n",
       "362279      72       埔里      33    細懸浮微粒       PM2.5    μg/m3   2022-12-01   \n",
       "362280      72       埔里      38     相對濕度          RH        %   2022-12-01   \n",
       "362281      72       埔里     143    小時風速值       WS_HR    m/sec   2022-12-01   \n",
       "\n",
       "       concentration  \n",
       "336080             1  \n",
       "336081            72  \n",
       "336082            22  \n",
       "336083          15.2  \n",
       "336084           1.4  \n",
       "...              ...  \n",
       "362277            18  \n",
       "362278           2.1  \n",
       "362279            12  \n",
       "362280            69  \n",
       "362281           0.7  \n",
       "\n",
       "[330 rows x 8 columns]"
      ]
     },
     "execution_count": 55,
     "metadata": {},
     "output_type": "execute_result"
    }
   ],
   "source": [
    "loc"
   ]
  },
  {
   "cell_type": "code",
   "execution_count": 56,
   "metadata": {},
   "outputs": [
    {
     "data": {
      "text/html": [
       "<div>\n",
       "<style scoped>\n",
       "    .dataframe tbody tr th:only-of-type {\n",
       "        vertical-align: middle;\n",
       "    }\n",
       "\n",
       "    .dataframe tbody tr th {\n",
       "        vertical-align: top;\n",
       "    }\n",
       "\n",
       "    .dataframe thead th {\n",
       "        text-align: right;\n",
       "    }\n",
       "</style>\n",
       "<table border=\"1\" class=\"dataframe\">\n",
       "  <thead>\n",
       "    <tr style=\"text-align: right;\">\n",
       "      <th>itemname</th>\n",
       "      <th>一氧化氮</th>\n",
       "      <th>一氧化碳</th>\n",
       "      <th>二氧化氮</th>\n",
       "      <th>二氧化硫</th>\n",
       "      <th>小時風速值</th>\n",
       "      <th>懸浮微粒</th>\n",
       "      <th>氮氧化物</th>\n",
       "      <th>溫度</th>\n",
       "      <th>甲烷</th>\n",
       "      <th>相對濕度</th>\n",
       "      <th>細懸浮微粒</th>\n",
       "      <th>總碳氫化物</th>\n",
       "      <th>臭氧</th>\n",
       "      <th>非甲烷碳氫化合物</th>\n",
       "      <th>風速</th>\n",
       "    </tr>\n",
       "    <tr>\n",
       "      <th>monitormonth</th>\n",
       "      <th></th>\n",
       "      <th></th>\n",
       "      <th></th>\n",
       "      <th></th>\n",
       "      <th></th>\n",
       "      <th></th>\n",
       "      <th></th>\n",
       "      <th></th>\n",
       "      <th></th>\n",
       "      <th></th>\n",
       "      <th></th>\n",
       "      <th></th>\n",
       "      <th></th>\n",
       "      <th></th>\n",
       "      <th></th>\n",
       "    </tr>\n",
       "  </thead>\n",
       "  <tbody>\n",
       "    <tr>\n",
       "      <th>2021-01-01</th>\n",
       "      <td>2.6</td>\n",
       "      <td>0.41</td>\n",
       "      <td>11.7</td>\n",
       "      <td>1.4</td>\n",
       "      <td>1.0</td>\n",
       "      <td>31.0</td>\n",
       "      <td>14.3</td>\n",
       "      <td>15.2</td>\n",
       "      <td>NaN</td>\n",
       "      <td>72.0</td>\n",
       "      <td>22.0</td>\n",
       "      <td>NaN</td>\n",
       "      <td>26.3</td>\n",
       "      <td>NaN</td>\n",
       "      <td>1.4</td>\n",
       "    </tr>\n",
       "    <tr>\n",
       "      <th>2021-02-01</th>\n",
       "      <td>1.9</td>\n",
       "      <td>0.39</td>\n",
       "      <td>11.4</td>\n",
       "      <td>1.5</td>\n",
       "      <td>1.1</td>\n",
       "      <td>39.0</td>\n",
       "      <td>13.3</td>\n",
       "      <td>18.5</td>\n",
       "      <td>NaN</td>\n",
       "      <td>67.0</td>\n",
       "      <td>26.0</td>\n",
       "      <td>NaN</td>\n",
       "      <td>36.8</td>\n",
       "      <td>NaN</td>\n",
       "      <td>1.6</td>\n",
       "    </tr>\n",
       "    <tr>\n",
       "      <th>2021-03-01</th>\n",
       "      <td>1.8</td>\n",
       "      <td>0.38</td>\n",
       "      <td>10.9</td>\n",
       "      <td>1.5</td>\n",
       "      <td>1.3</td>\n",
       "      <td>39.0</td>\n",
       "      <td>12.7</td>\n",
       "      <td>21.6</td>\n",
       "      <td>NaN</td>\n",
       "      <td>71.0</td>\n",
       "      <td>25.0</td>\n",
       "      <td>NaN</td>\n",
       "      <td>35.2</td>\n",
       "      <td>NaN</td>\n",
       "      <td>1.7</td>\n",
       "    </tr>\n",
       "    <tr>\n",
       "      <th>2021-04-01</th>\n",
       "      <td>1.7</td>\n",
       "      <td>0.34</td>\n",
       "      <td>9.9</td>\n",
       "      <td>1.5</td>\n",
       "      <td>1.3</td>\n",
       "      <td>38.0</td>\n",
       "      <td>11.6</td>\n",
       "      <td>23.6</td>\n",
       "      <td>NaN</td>\n",
       "      <td>70.0</td>\n",
       "      <td>24.0</td>\n",
       "      <td>NaN</td>\n",
       "      <td>79.9</td>\n",
       "      <td>NaN</td>\n",
       "      <td>1.7</td>\n",
       "    </tr>\n",
       "    <tr>\n",
       "      <th>2021-05-01</th>\n",
       "      <td>2.0</td>\n",
       "      <td>0.21</td>\n",
       "      <td>9.1</td>\n",
       "      <td>1.4</td>\n",
       "      <td>1.4</td>\n",
       "      <td>24.0</td>\n",
       "      <td>11.1</td>\n",
       "      <td>27.4</td>\n",
       "      <td>NaN</td>\n",
       "      <td>69.0</td>\n",
       "      <td>13.0</td>\n",
       "      <td>NaN</td>\n",
       "      <td>31.6</td>\n",
       "      <td>NaN</td>\n",
       "      <td>1.9</td>\n",
       "    </tr>\n",
       "    <tr>\n",
       "      <th>2021-06-01</th>\n",
       "      <td>1.6</td>\n",
       "      <td>0.16</td>\n",
       "      <td>5.3</td>\n",
       "      <td>1.3</td>\n",
       "      <td>0.9</td>\n",
       "      <td>16.0</td>\n",
       "      <td>7.0</td>\n",
       "      <td>25.8</td>\n",
       "      <td>NaN</td>\n",
       "      <td>80.0</td>\n",
       "      <td>5.0</td>\n",
       "      <td>NaN</td>\n",
       "      <td>22.4</td>\n",
       "      <td>NaN</td>\n",
       "      <td>1.4</td>\n",
       "    </tr>\n",
       "    <tr>\n",
       "      <th>2021-07-01</th>\n",
       "      <td>1.1</td>\n",
       "      <td>0.14</td>\n",
       "      <td>3.9</td>\n",
       "      <td>1.1</td>\n",
       "      <td>1.2</td>\n",
       "      <td>15.0</td>\n",
       "      <td>5.2</td>\n",
       "      <td>27.4</td>\n",
       "      <td>NaN</td>\n",
       "      <td>76.0</td>\n",
       "      <td>8.0</td>\n",
       "      <td>NaN</td>\n",
       "      <td>26.0</td>\n",
       "      <td>NaN</td>\n",
       "      <td>1.6</td>\n",
       "    </tr>\n",
       "    <tr>\n",
       "      <th>2021-08-01</th>\n",
       "      <td>1.4</td>\n",
       "      <td>0.16</td>\n",
       "      <td>4.4</td>\n",
       "      <td>1.1</td>\n",
       "      <td>0.9</td>\n",
       "      <td>14.0</td>\n",
       "      <td>5.9</td>\n",
       "      <td>26.2</td>\n",
       "      <td>NaN</td>\n",
       "      <td>82.0</td>\n",
       "      <td>8.0</td>\n",
       "      <td>NaN</td>\n",
       "      <td>20.8</td>\n",
       "      <td>NaN</td>\n",
       "      <td>1.2</td>\n",
       "    </tr>\n",
       "    <tr>\n",
       "      <th>2021-09-01</th>\n",
       "      <td>1.4</td>\n",
       "      <td>0.21</td>\n",
       "      <td>4.9</td>\n",
       "      <td>1.3</td>\n",
       "      <td>1.2</td>\n",
       "      <td>22.0</td>\n",
       "      <td>6.4</td>\n",
       "      <td>27.2</td>\n",
       "      <td>NaN</td>\n",
       "      <td>75.0</td>\n",
       "      <td>14.0</td>\n",
       "      <td>NaN</td>\n",
       "      <td>31.9</td>\n",
       "      <td>NaN</td>\n",
       "      <td>1.6</td>\n",
       "    </tr>\n",
       "    <tr>\n",
       "      <th>2021-10-01</th>\n",
       "      <td>1.5</td>\n",
       "      <td>0.27</td>\n",
       "      <td>6.7</td>\n",
       "      <td>1.3</td>\n",
       "      <td>1.1</td>\n",
       "      <td>27.0</td>\n",
       "      <td>8.3</td>\n",
       "      <td>25.6</td>\n",
       "      <td>NaN</td>\n",
       "      <td>72.0</td>\n",
       "      <td>17.0</td>\n",
       "      <td>NaN</td>\n",
       "      <td>33.8</td>\n",
       "      <td>NaN</td>\n",
       "      <td>1.4</td>\n",
       "    </tr>\n",
       "    <tr>\n",
       "      <th>2021-11-01</th>\n",
       "      <td>1.9</td>\n",
       "      <td>0.32</td>\n",
       "      <td>8.5</td>\n",
       "      <td>1.4</td>\n",
       "      <td>0.8</td>\n",
       "      <td>25.0</td>\n",
       "      <td>10.5</td>\n",
       "      <td>21.6</td>\n",
       "      <td>0.00</td>\n",
       "      <td>77.0</td>\n",
       "      <td>16.0</td>\n",
       "      <td>0.00</td>\n",
       "      <td>25.6</td>\n",
       "      <td>0.00</td>\n",
       "      <td>1.1</td>\n",
       "    </tr>\n",
       "    <tr>\n",
       "      <th>2021-12-01</th>\n",
       "      <td>2.3</td>\n",
       "      <td>0.38</td>\n",
       "      <td>10.0</td>\n",
       "      <td>1.3</td>\n",
       "      <td>0.8</td>\n",
       "      <td>28.0</td>\n",
       "      <td>12.4</td>\n",
       "      <td>18.1</td>\n",
       "      <td>0.00</td>\n",
       "      <td>77.0</td>\n",
       "      <td>18.0</td>\n",
       "      <td>0.00</td>\n",
       "      <td>23.3</td>\n",
       "      <td>0.00</td>\n",
       "      <td>1.1</td>\n",
       "    </tr>\n",
       "    <tr>\n",
       "      <th>2022-01-01</th>\n",
       "      <td>2.1</td>\n",
       "      <td>0.36</td>\n",
       "      <td>9.1</td>\n",
       "      <td>1.2</td>\n",
       "      <td>0.8</td>\n",
       "      <td>24.0</td>\n",
       "      <td>11.3</td>\n",
       "      <td>17.8</td>\n",
       "      <td>2.09</td>\n",
       "      <td>79.0</td>\n",
       "      <td>17.0</td>\n",
       "      <td>2.21</td>\n",
       "      <td>21.8</td>\n",
       "      <td>0.11</td>\n",
       "      <td>1.1</td>\n",
       "    </tr>\n",
       "    <tr>\n",
       "      <th>2022-02-01</th>\n",
       "      <td>1.9</td>\n",
       "      <td>0.32</td>\n",
       "      <td>7.5</td>\n",
       "      <td>1.1</td>\n",
       "      <td>0.7</td>\n",
       "      <td>19.0</td>\n",
       "      <td>9.6</td>\n",
       "      <td>17.4</td>\n",
       "      <td>2.08</td>\n",
       "      <td>83.0</td>\n",
       "      <td>15.0</td>\n",
       "      <td>2.18</td>\n",
       "      <td>22.1</td>\n",
       "      <td>0.09</td>\n",
       "      <td>0.9</td>\n",
       "    </tr>\n",
       "    <tr>\n",
       "      <th>2022-03-01</th>\n",
       "      <td>1.8</td>\n",
       "      <td>0.31</td>\n",
       "      <td>7.0</td>\n",
       "      <td>1.3</td>\n",
       "      <td>0.9</td>\n",
       "      <td>29.0</td>\n",
       "      <td>8.9</td>\n",
       "      <td>21.6</td>\n",
       "      <td>2.10</td>\n",
       "      <td>74.0</td>\n",
       "      <td>17.0</td>\n",
       "      <td>2.20</td>\n",
       "      <td>31.3</td>\n",
       "      <td>0.09</td>\n",
       "      <td>1.1</td>\n",
       "    </tr>\n",
       "    <tr>\n",
       "      <th>2022-04-01</th>\n",
       "      <td>1.4</td>\n",
       "      <td>0.26</td>\n",
       "      <td>5.4</td>\n",
       "      <td>0.7</td>\n",
       "      <td>1.1</td>\n",
       "      <td>27.0</td>\n",
       "      <td>6.9</td>\n",
       "      <td>23.3</td>\n",
       "      <td>2.06</td>\n",
       "      <td>74.0</td>\n",
       "      <td>16.0</td>\n",
       "      <td>2.14</td>\n",
       "      <td>32.4</td>\n",
       "      <td>0.06</td>\n",
       "      <td>1.4</td>\n",
       "    </tr>\n",
       "    <tr>\n",
       "      <th>2022-05-01</th>\n",
       "      <td>1.5</td>\n",
       "      <td>0.22</td>\n",
       "      <td>4.4</td>\n",
       "      <td>1.1</td>\n",
       "      <td>0.7</td>\n",
       "      <td>18.0</td>\n",
       "      <td>6.0</td>\n",
       "      <td>24.4</td>\n",
       "      <td>2.06</td>\n",
       "      <td>85.0</td>\n",
       "      <td>7.0</td>\n",
       "      <td>2.13</td>\n",
       "      <td>23.9</td>\n",
       "      <td>0.06</td>\n",
       "      <td>1.0</td>\n",
       "    </tr>\n",
       "    <tr>\n",
       "      <th>2022-06-01</th>\n",
       "      <td>1.6</td>\n",
       "      <td>0.15</td>\n",
       "      <td>2.8</td>\n",
       "      <td>1.1</td>\n",
       "      <td>0.7</td>\n",
       "      <td>14.0</td>\n",
       "      <td>4.5</td>\n",
       "      <td>25.9</td>\n",
       "      <td>2.00</td>\n",
       "      <td>83.0</td>\n",
       "      <td>3.0</td>\n",
       "      <td>2.04</td>\n",
       "      <td>16.0</td>\n",
       "      <td>0.04</td>\n",
       "      <td>1.1</td>\n",
       "    </tr>\n",
       "    <tr>\n",
       "      <th>2022-07-01</th>\n",
       "      <td>1.3</td>\n",
       "      <td>0.16</td>\n",
       "      <td>2.8</td>\n",
       "      <td>1.1</td>\n",
       "      <td>1.0</td>\n",
       "      <td>16.0</td>\n",
       "      <td>4.2</td>\n",
       "      <td>27.9</td>\n",
       "      <td>2.00</td>\n",
       "      <td>74.0</td>\n",
       "      <td>5.0</td>\n",
       "      <td>2.04</td>\n",
       "      <td>23.4</td>\n",
       "      <td>0.03</td>\n",
       "      <td>1.4</td>\n",
       "    </tr>\n",
       "    <tr>\n",
       "      <th>2022-08-01</th>\n",
       "      <td>1.3</td>\n",
       "      <td>0.17</td>\n",
       "      <td>3.1</td>\n",
       "      <td>1.2</td>\n",
       "      <td>1.0</td>\n",
       "      <td>16.0</td>\n",
       "      <td>4.5</td>\n",
       "      <td>27.5</td>\n",
       "      <td>2.04</td>\n",
       "      <td>73.0</td>\n",
       "      <td>5.0</td>\n",
       "      <td>2.09</td>\n",
       "      <td>25.0</td>\n",
       "      <td>0.04</td>\n",
       "      <td>1.4</td>\n",
       "    </tr>\n",
       "    <tr>\n",
       "      <th>2022-09-01</th>\n",
       "      <td>1.3</td>\n",
       "      <td>0.25</td>\n",
       "      <td>3.9</td>\n",
       "      <td>1.1</td>\n",
       "      <td>1.0</td>\n",
       "      <td>26.0</td>\n",
       "      <td>5.3</td>\n",
       "      <td>26.6</td>\n",
       "      <td>2.12</td>\n",
       "      <td>70.0</td>\n",
       "      <td>12.0</td>\n",
       "      <td>2.18</td>\n",
       "      <td>35.1</td>\n",
       "      <td>0.05</td>\n",
       "      <td>1.3</td>\n",
       "    </tr>\n",
       "    <tr>\n",
       "      <th>2022-10-01</th>\n",
       "      <td>1.6</td>\n",
       "      <td>0.26</td>\n",
       "      <td>5.6</td>\n",
       "      <td>1.2</td>\n",
       "      <td>0.8</td>\n",
       "      <td>28.0</td>\n",
       "      <td>7.3</td>\n",
       "      <td>25.2</td>\n",
       "      <td>2.11</td>\n",
       "      <td>71.0</td>\n",
       "      <td>13.0</td>\n",
       "      <td>2.19</td>\n",
       "      <td>30.6</td>\n",
       "      <td>0.07</td>\n",
       "      <td>1.1</td>\n",
       "    </tr>\n",
       "    <tr>\n",
       "      <th>2022-11-01</th>\n",
       "      <td>1.8</td>\n",
       "      <td>0.30</td>\n",
       "      <td>6.5</td>\n",
       "      <td>1.2</td>\n",
       "      <td>0.6</td>\n",
       "      <td>27.0</td>\n",
       "      <td>8.4</td>\n",
       "      <td>24.3</td>\n",
       "      <td>2.12</td>\n",
       "      <td>71.0</td>\n",
       "      <td>13.0</td>\n",
       "      <td>2.22</td>\n",
       "      <td>26.4</td>\n",
       "      <td>0.09</td>\n",
       "      <td>0.9</td>\n",
       "    </tr>\n",
       "    <tr>\n",
       "      <th>2022-12-01</th>\n",
       "      <td>2.3</td>\n",
       "      <td>0.33</td>\n",
       "      <td>8.5</td>\n",
       "      <td>1.3</td>\n",
       "      <td>0.7</td>\n",
       "      <td>22.0</td>\n",
       "      <td>10.8</td>\n",
       "      <td>18.0</td>\n",
       "      <td>2.10</td>\n",
       "      <td>69.0</td>\n",
       "      <td>12.0</td>\n",
       "      <td>2.21</td>\n",
       "      <td>22.8</td>\n",
       "      <td>0.11</td>\n",
       "      <td>0.9</td>\n",
       "    </tr>\n",
       "  </tbody>\n",
       "</table>\n",
       "</div>"
      ],
      "text/plain": [
       "itemname      一氧化氮  一氧化碳  二氧化氮  二氧化硫  小時風速值  懸浮微粒  氮氧化物    溫度    甲烷  相對濕度  \\\n",
       "monitormonth                                                                \n",
       "2021-01-01     2.6  0.41  11.7   1.4    1.0  31.0  14.3  15.2   NaN  72.0   \n",
       "2021-02-01     1.9  0.39  11.4   1.5    1.1  39.0  13.3  18.5   NaN  67.0   \n",
       "2021-03-01     1.8  0.38  10.9   1.5    1.3  39.0  12.7  21.6   NaN  71.0   \n",
       "2021-04-01     1.7  0.34   9.9   1.5    1.3  38.0  11.6  23.6   NaN  70.0   \n",
       "2021-05-01     2.0  0.21   9.1   1.4    1.4  24.0  11.1  27.4   NaN  69.0   \n",
       "2021-06-01     1.6  0.16   5.3   1.3    0.9  16.0   7.0  25.8   NaN  80.0   \n",
       "2021-07-01     1.1  0.14   3.9   1.1    1.2  15.0   5.2  27.4   NaN  76.0   \n",
       "2021-08-01     1.4  0.16   4.4   1.1    0.9  14.0   5.9  26.2   NaN  82.0   \n",
       "2021-09-01     1.4  0.21   4.9   1.3    1.2  22.0   6.4  27.2   NaN  75.0   \n",
       "2021-10-01     1.5  0.27   6.7   1.3    1.1  27.0   8.3  25.6   NaN  72.0   \n",
       "2021-11-01     1.9  0.32   8.5   1.4    0.8  25.0  10.5  21.6  0.00  77.0   \n",
       "2021-12-01     2.3  0.38  10.0   1.3    0.8  28.0  12.4  18.1  0.00  77.0   \n",
       "2022-01-01     2.1  0.36   9.1   1.2    0.8  24.0  11.3  17.8  2.09  79.0   \n",
       "2022-02-01     1.9  0.32   7.5   1.1    0.7  19.0   9.6  17.4  2.08  83.0   \n",
       "2022-03-01     1.8  0.31   7.0   1.3    0.9  29.0   8.9  21.6  2.10  74.0   \n",
       "2022-04-01     1.4  0.26   5.4   0.7    1.1  27.0   6.9  23.3  2.06  74.0   \n",
       "2022-05-01     1.5  0.22   4.4   1.1    0.7  18.0   6.0  24.4  2.06  85.0   \n",
       "2022-06-01     1.6  0.15   2.8   1.1    0.7  14.0   4.5  25.9  2.00  83.0   \n",
       "2022-07-01     1.3  0.16   2.8   1.1    1.0  16.0   4.2  27.9  2.00  74.0   \n",
       "2022-08-01     1.3  0.17   3.1   1.2    1.0  16.0   4.5  27.5  2.04  73.0   \n",
       "2022-09-01     1.3  0.25   3.9   1.1    1.0  26.0   5.3  26.6  2.12  70.0   \n",
       "2022-10-01     1.6  0.26   5.6   1.2    0.8  28.0   7.3  25.2  2.11  71.0   \n",
       "2022-11-01     1.8  0.30   6.5   1.2    0.6  27.0   8.4  24.3  2.12  71.0   \n",
       "2022-12-01     2.3  0.33   8.5   1.3    0.7  22.0  10.8  18.0  2.10  69.0   \n",
       "\n",
       "itemname      細懸浮微粒  總碳氫化物    臭氧  非甲烷碳氫化合物   風速  \n",
       "monitormonth                                     \n",
       "2021-01-01     22.0    NaN  26.3       NaN  1.4  \n",
       "2021-02-01     26.0    NaN  36.8       NaN  1.6  \n",
       "2021-03-01     25.0    NaN  35.2       NaN  1.7  \n",
       "2021-04-01     24.0    NaN  79.9       NaN  1.7  \n",
       "2021-05-01     13.0    NaN  31.6       NaN  1.9  \n",
       "2021-06-01      5.0    NaN  22.4       NaN  1.4  \n",
       "2021-07-01      8.0    NaN  26.0       NaN  1.6  \n",
       "2021-08-01      8.0    NaN  20.8       NaN  1.2  \n",
       "2021-09-01     14.0    NaN  31.9       NaN  1.6  \n",
       "2021-10-01     17.0    NaN  33.8       NaN  1.4  \n",
       "2021-11-01     16.0   0.00  25.6      0.00  1.1  \n",
       "2021-12-01     18.0   0.00  23.3      0.00  1.1  \n",
       "2022-01-01     17.0   2.21  21.8      0.11  1.1  \n",
       "2022-02-01     15.0   2.18  22.1      0.09  0.9  \n",
       "2022-03-01     17.0   2.20  31.3      0.09  1.1  \n",
       "2022-04-01     16.0   2.14  32.4      0.06  1.4  \n",
       "2022-05-01      7.0   2.13  23.9      0.06  1.0  \n",
       "2022-06-01      3.0   2.04  16.0      0.04  1.1  \n",
       "2022-07-01      5.0   2.04  23.4      0.03  1.4  \n",
       "2022-08-01      5.0   2.09  25.0      0.04  1.4  \n",
       "2022-09-01     12.0   2.18  35.1      0.05  1.3  \n",
       "2022-10-01     13.0   2.19  30.6      0.07  1.1  \n",
       "2022-11-01     13.0   2.22  26.4      0.09  0.9  \n",
       "2022-12-01     12.0   2.21  22.8      0.11  0.9  "
      ]
     },
     "execution_count": 56,
     "metadata": {},
     "output_type": "execute_result"
    }
   ],
   "source": [
    "pd.pivot_table(loc, values='concentration', index='monitormonth', columns='itemname')"
   ]
  },
  {
   "cell_type": "code",
   "execution_count": 63,
   "metadata": {},
   "outputs": [
    {
     "name": "stderr",
     "output_type": "stream",
     "text": [
      "c:\\Users\\User\\anaconda3\\envs\\text\\lib\\site-packages\\ipykernel_launcher.py:7: SettingWithCopyWarning:\n",
      "\n",
      "\n",
      "A value is trying to be set on a copy of a slice from a DataFrame.\n",
      "Try using .loc[row_indexer,col_indexer] = value instead\n",
      "\n",
      "See the caveats in the documentation: https://pandas.pydata.org/pandas-docs/stable/user_guide/indexing.html#returning-a-view-versus-a-copy\n",
      "\n"
     ]
    }
   ],
   "source": [
    "loc = filtered_df[filtered_df['sitename']==\"臺南\"]\n",
    "loc = loc.replace('x', 0)\n",
    "loc = loc.fillna(0)\n",
    "loc = pd.pivot_table(loc, values='concentration', index=loc['monitormonth'], columns='itemname')\n",
    "loc = loc.reset_index()\n",
    "df_location = loc[['monitormonth', '細懸浮微粒', '懸浮微粒', '一氧化氮', '相對濕度']]\n",
    "df_location['angle'] = df_location.monitormonth.apply(lambda x: date_to_angle(x))"
   ]
  },
  {
   "cell_type": "code",
   "execution_count": 67,
   "metadata": {},
   "outputs": [
    {
     "data": {
      "text/plain": [
       "78"
      ]
     },
     "execution_count": 67,
     "metadata": {},
     "output_type": "execute_result"
    }
   ],
   "source": [
    "len(_df.sitename.unique().tolist())"
   ]
  },
  {
   "cell_type": "code",
   "execution_count": 68,
   "metadata": {},
   "outputs": [],
   "source": [
    "central = ['大城','埔里','竹山','南投','二林','線西','彰化','西屯','忠明','大里','沙鹿','豐原']\n",
    "north = ['富貴角','永和','中壢','三重','陽明','龍潭','平鎮','觀音','大園','桃園','大同','松山','古亭','萬華','中山','士林','淡水','林口','菜寮','新莊','板橋','土城','新店','萬里','汐止','基隆']"
   ]
  },
  {
   "cell_type": "code",
   "execution_count": 71,
   "metadata": {},
   "outputs": [],
   "source": [
    "sorth = ['復興','恆春','潮州','屏東','小港','前鎮','前金','左營','楠梓','林園','大寮','鳳山','仁武','橋頭','美濃']\n",
    "\n",
    "east = ['關山','冬山','宜蘭','花蓮','臺東']\n"
   ]
  },
  {
   "cell_type": "code",
   "execution_count": 69,
   "metadata": {},
   "outputs": [
    {
     "name": "stdout",
     "output_type": "stream",
     "text": [
      "38\n"
     ]
    }
   ],
   "source": [
    "print(len(central)+len(north))"
   ]
  },
  {
   "cell_type": "code",
   "execution_count": 64,
   "metadata": {},
   "outputs": [
    {
     "data": {
      "text/html": [
       "<div>\n",
       "<style scoped>\n",
       "    .dataframe tbody tr th:only-of-type {\n",
       "        vertical-align: middle;\n",
       "    }\n",
       "\n",
       "    .dataframe tbody tr th {\n",
       "        vertical-align: top;\n",
       "    }\n",
       "\n",
       "    .dataframe thead th {\n",
       "        text-align: right;\n",
       "    }\n",
       "</style>\n",
       "<table border=\"1\" class=\"dataframe\">\n",
       "  <thead>\n",
       "    <tr style=\"text-align: right;\">\n",
       "      <th>itemname</th>\n",
       "      <th>monitormonth</th>\n",
       "      <th>細懸浮微粒</th>\n",
       "      <th>懸浮微粒</th>\n",
       "      <th>一氧化氮</th>\n",
       "      <th>相對濕度</th>\n",
       "      <th>angle</th>\n",
       "    </tr>\n",
       "  </thead>\n",
       "  <tbody>\n",
       "    <tr>\n",
       "      <th>0</th>\n",
       "      <td>2021-01-01</td>\n",
       "      <td>37.0</td>\n",
       "      <td>60.0</td>\n",
       "      <td>3.0</td>\n",
       "      <td>72.0</td>\n",
       "      <td>0</td>\n",
       "    </tr>\n",
       "    <tr>\n",
       "      <th>1</th>\n",
       "      <td>2021-02-01</td>\n",
       "      <td>41.0</td>\n",
       "      <td>69.0</td>\n",
       "      <td>1.6</td>\n",
       "      <td>71.0</td>\n",
       "      <td>15</td>\n",
       "    </tr>\n",
       "    <tr>\n",
       "      <th>2</th>\n",
       "      <td>2021-03-01</td>\n",
       "      <td>37.0</td>\n",
       "      <td>69.0</td>\n",
       "      <td>2.0</td>\n",
       "      <td>71.0</td>\n",
       "      <td>30</td>\n",
       "    </tr>\n",
       "    <tr>\n",
       "      <th>3</th>\n",
       "      <td>2021-04-01</td>\n",
       "      <td>24.0</td>\n",
       "      <td>56.0</td>\n",
       "      <td>1.1</td>\n",
       "      <td>70.0</td>\n",
       "      <td>45</td>\n",
       "    </tr>\n",
       "    <tr>\n",
       "      <th>4</th>\n",
       "      <td>2021-05-01</td>\n",
       "      <td>11.0</td>\n",
       "      <td>25.0</td>\n",
       "      <td>1.3</td>\n",
       "      <td>71.0</td>\n",
       "      <td>60</td>\n",
       "    </tr>\n",
       "    <tr>\n",
       "      <th>5</th>\n",
       "      <td>2021-06-01</td>\n",
       "      <td>6.0</td>\n",
       "      <td>15.0</td>\n",
       "      <td>1.2</td>\n",
       "      <td>78.0</td>\n",
       "      <td>75</td>\n",
       "    </tr>\n",
       "    <tr>\n",
       "      <th>6</th>\n",
       "      <td>2021-07-01</td>\n",
       "      <td>7.0</td>\n",
       "      <td>17.0</td>\n",
       "      <td>1.3</td>\n",
       "      <td>78.0</td>\n",
       "      <td>90</td>\n",
       "    </tr>\n",
       "    <tr>\n",
       "      <th>7</th>\n",
       "      <td>2021-08-01</td>\n",
       "      <td>7.0</td>\n",
       "      <td>15.0</td>\n",
       "      <td>1.6</td>\n",
       "      <td>87.0</td>\n",
       "      <td>105</td>\n",
       "    </tr>\n",
       "    <tr>\n",
       "      <th>8</th>\n",
       "      <td>2021-09-01</td>\n",
       "      <td>13.0</td>\n",
       "      <td>25.0</td>\n",
       "      <td>1.0</td>\n",
       "      <td>80.0</td>\n",
       "      <td>120</td>\n",
       "    </tr>\n",
       "    <tr>\n",
       "      <th>9</th>\n",
       "      <td>2021-10-01</td>\n",
       "      <td>16.0</td>\n",
       "      <td>38.0</td>\n",
       "      <td>1.3</td>\n",
       "      <td>72.0</td>\n",
       "      <td>135</td>\n",
       "    </tr>\n",
       "    <tr>\n",
       "      <th>10</th>\n",
       "      <td>2021-11-01</td>\n",
       "      <td>21.0</td>\n",
       "      <td>50.0</td>\n",
       "      <td>1.3</td>\n",
       "      <td>72.0</td>\n",
       "      <td>150</td>\n",
       "    </tr>\n",
       "    <tr>\n",
       "      <th>11</th>\n",
       "      <td>2021-12-01</td>\n",
       "      <td>27.0</td>\n",
       "      <td>54.0</td>\n",
       "      <td>2.0</td>\n",
       "      <td>73.0</td>\n",
       "      <td>165</td>\n",
       "    </tr>\n",
       "    <tr>\n",
       "      <th>12</th>\n",
       "      <td>2022-01-01</td>\n",
       "      <td>27.0</td>\n",
       "      <td>45.0</td>\n",
       "      <td>2.0</td>\n",
       "      <td>78.0</td>\n",
       "      <td>180</td>\n",
       "    </tr>\n",
       "    <tr>\n",
       "      <th>13</th>\n",
       "      <td>2022-02-01</td>\n",
       "      <td>24.0</td>\n",
       "      <td>38.0</td>\n",
       "      <td>1.4</td>\n",
       "      <td>80.0</td>\n",
       "      <td>195</td>\n",
       "    </tr>\n",
       "    <tr>\n",
       "      <th>14</th>\n",
       "      <td>2022-03-01</td>\n",
       "      <td>30.0</td>\n",
       "      <td>51.0</td>\n",
       "      <td>1.5</td>\n",
       "      <td>74.0</td>\n",
       "      <td>210</td>\n",
       "    </tr>\n",
       "    <tr>\n",
       "      <th>15</th>\n",
       "      <td>2022-04-01</td>\n",
       "      <td>21.0</td>\n",
       "      <td>38.0</td>\n",
       "      <td>1.1</td>\n",
       "      <td>74.0</td>\n",
       "      <td>225</td>\n",
       "    </tr>\n",
       "    <tr>\n",
       "      <th>16</th>\n",
       "      <td>2022-05-01</td>\n",
       "      <td>14.0</td>\n",
       "      <td>30.0</td>\n",
       "      <td>1.3</td>\n",
       "      <td>81.0</td>\n",
       "      <td>240</td>\n",
       "    </tr>\n",
       "    <tr>\n",
       "      <th>17</th>\n",
       "      <td>2022-06-01</td>\n",
       "      <td>6.0</td>\n",
       "      <td>15.0</td>\n",
       "      <td>1.3</td>\n",
       "      <td>76.0</td>\n",
       "      <td>255</td>\n",
       "    </tr>\n",
       "    <tr>\n",
       "      <th>18</th>\n",
       "      <td>2022-07-01</td>\n",
       "      <td>6.0</td>\n",
       "      <td>15.0</td>\n",
       "      <td>0.8</td>\n",
       "      <td>74.0</td>\n",
       "      <td>270</td>\n",
       "    </tr>\n",
       "    <tr>\n",
       "      <th>19</th>\n",
       "      <td>2022-08-01</td>\n",
       "      <td>8.0</td>\n",
       "      <td>15.0</td>\n",
       "      <td>0.6</td>\n",
       "      <td>77.0</td>\n",
       "      <td>285</td>\n",
       "    </tr>\n",
       "    <tr>\n",
       "      <th>20</th>\n",
       "      <td>2022-09-01</td>\n",
       "      <td>0.0</td>\n",
       "      <td>0.0</td>\n",
       "      <td>0.0</td>\n",
       "      <td>70.0</td>\n",
       "      <td>300</td>\n",
       "    </tr>\n",
       "    <tr>\n",
       "      <th>21</th>\n",
       "      <td>2022-10-01</td>\n",
       "      <td>18.0</td>\n",
       "      <td>39.0</td>\n",
       "      <td>4.1</td>\n",
       "      <td>70.0</td>\n",
       "      <td>315</td>\n",
       "    </tr>\n",
       "    <tr>\n",
       "      <th>22</th>\n",
       "      <td>2022-11-01</td>\n",
       "      <td>26.0</td>\n",
       "      <td>45.0</td>\n",
       "      <td>4.8</td>\n",
       "      <td>82.0</td>\n",
       "      <td>330</td>\n",
       "    </tr>\n",
       "    <tr>\n",
       "      <th>23</th>\n",
       "      <td>2022-12-01</td>\n",
       "      <td>21.0</td>\n",
       "      <td>38.0</td>\n",
       "      <td>5.5</td>\n",
       "      <td>70.0</td>\n",
       "      <td>345</td>\n",
       "    </tr>\n",
       "  </tbody>\n",
       "</table>\n",
       "</div>"
      ],
      "text/plain": [
       "itemname monitormonth  細懸浮微粒  懸浮微粒  一氧化氮  相對濕度  angle\n",
       "0          2021-01-01   37.0  60.0   3.0  72.0      0\n",
       "1          2021-02-01   41.0  69.0   1.6  71.0     15\n",
       "2          2021-03-01   37.0  69.0   2.0  71.0     30\n",
       "3          2021-04-01   24.0  56.0   1.1  70.0     45\n",
       "4          2021-05-01   11.0  25.0   1.3  71.0     60\n",
       "5          2021-06-01    6.0  15.0   1.2  78.0     75\n",
       "6          2021-07-01    7.0  17.0   1.3  78.0     90\n",
       "7          2021-08-01    7.0  15.0   1.6  87.0    105\n",
       "8          2021-09-01   13.0  25.0   1.0  80.0    120\n",
       "9          2021-10-01   16.0  38.0   1.3  72.0    135\n",
       "10         2021-11-01   21.0  50.0   1.3  72.0    150\n",
       "11         2021-12-01   27.0  54.0   2.0  73.0    165\n",
       "12         2022-01-01   27.0  45.0   2.0  78.0    180\n",
       "13         2022-02-01   24.0  38.0   1.4  80.0    195\n",
       "14         2022-03-01   30.0  51.0   1.5  74.0    210\n",
       "15         2022-04-01   21.0  38.0   1.1  74.0    225\n",
       "16         2022-05-01   14.0  30.0   1.3  81.0    240\n",
       "17         2022-06-01    6.0  15.0   1.3  76.0    255\n",
       "18         2022-07-01    6.0  15.0   0.8  74.0    270\n",
       "19         2022-08-01    8.0  15.0   0.6  77.0    285\n",
       "20         2022-09-01    0.0   0.0   0.0  70.0    300\n",
       "21         2022-10-01   18.0  39.0   4.1  70.0    315\n",
       "22         2022-11-01   26.0  45.0   4.8  82.0    330\n",
       "23         2022-12-01   21.0  38.0   5.5  70.0    345"
      ]
     },
     "execution_count": 64,
     "metadata": {},
     "output_type": "execute_result"
    }
   ],
   "source": [
    "df_location"
   ]
  },
  {
   "cell_type": "code",
   "execution_count": 39,
   "metadata": {},
   "outputs": [
    {
     "data": {
      "application/vnd.plotly.v1+json": {
       "config": {
        "plotlyServerURL": "https://plot.ly"
       },
       "data": [
        {
         "line": {
          "color": "blue",
          "width": 1
         },
         "marker": {
          "cmax": 36,
          "cmin": 4.5,
          "color": [
           36,
           33,
           32,
           23,
           11,
           6,
           8,
           9,
           15,
           19,
           24,
           31,
           31,
           26,
           26,
           19,
           10,
           5,
           7,
           9,
           16,
           20,
           25,
           22
          ],
          "colorbar": {
           "title": {
            "text": "細懸浮微粒"
           }
          },
          "colorscale": [
           [
            0,
            "rgb(255,245,240)"
           ],
           [
            0.125,
            "rgb(254,224,210)"
           ],
           [
            0.25,
            "rgb(252,187,161)"
           ],
           [
            0.375,
            "rgb(252,146,114)"
           ],
           [
            0.5,
            "rgb(251,106,74)"
           ],
           [
            0.625,
            "rgb(239,59,44)"
           ],
           [
            0.75,
            "rgb(203,24,29)"
           ],
           [
            0.875,
            "rgb(165,15,21)"
           ],
           [
            1,
            "rgb(103,0,13)"
           ]
          ],
          "size": 10
         },
         "mode": "markers",
         "name": "細懸浮微粒",
         "r": [
          68,
          68,
          68,
          71,
          68,
          80,
          79,
          82,
          77,
          76,
          70,
          71,
          73,
          76,
          72,
          73,
          82,
          74,
          77,
          80,
          76,
          75,
          78,
          69
         ],
         "theta": [
          "2021/01",
          "2021/02",
          "2021/03",
          "2021/04",
          "2021/05",
          "2021/06",
          "2021/07",
          "2021/08",
          "2021/09",
          "2021/10",
          "2021/11",
          "2021/12",
          "2022/01",
          "2022/02",
          "2022/03",
          "2022/04",
          "2022/05",
          "2022/06",
          "2022/07",
          "2022/08",
          "2022/09",
          "2022/10",
          "2022/11",
          "2022/12"
         ],
         "type": "scatterpolar"
        }
       ],
       "layout": {
        "height": 600,
        "polar": {
         "radialaxis": {
          "angle": 0,
          "tickfont": {
           "size": 8
          },
          "tickmode": "array",
          "ticks": "outside",
          "tickvals": [
           0,
           15,
           30,
           45,
           60,
           75,
           90,
           105,
           120,
           135,
           150,
           165,
           180,
           195,
           210,
           225,
           240,
           255,
           270,
           285,
           300,
           315,
           330,
           345
          ]
         }
        },
        "template": {
         "data": {
          "bar": [
           {
            "error_x": {
             "color": "#2a3f5f"
            },
            "error_y": {
             "color": "#2a3f5f"
            },
            "marker": {
             "line": {
              "color": "#E5ECF6",
              "width": 0.5
             },
             "pattern": {
              "fillmode": "overlay",
              "size": 10,
              "solidity": 0.2
             }
            },
            "type": "bar"
           }
          ],
          "barpolar": [
           {
            "marker": {
             "line": {
              "color": "#E5ECF6",
              "width": 0.5
             },
             "pattern": {
              "fillmode": "overlay",
              "size": 10,
              "solidity": 0.2
             }
            },
            "type": "barpolar"
           }
          ],
          "carpet": [
           {
            "aaxis": {
             "endlinecolor": "#2a3f5f",
             "gridcolor": "white",
             "linecolor": "white",
             "minorgridcolor": "white",
             "startlinecolor": "#2a3f5f"
            },
            "baxis": {
             "endlinecolor": "#2a3f5f",
             "gridcolor": "white",
             "linecolor": "white",
             "minorgridcolor": "white",
             "startlinecolor": "#2a3f5f"
            },
            "type": "carpet"
           }
          ],
          "choropleth": [
           {
            "colorbar": {
             "outlinewidth": 0,
             "ticks": ""
            },
            "type": "choropleth"
           }
          ],
          "contour": [
           {
            "colorbar": {
             "outlinewidth": 0,
             "ticks": ""
            },
            "colorscale": [
             [
              0,
              "#0d0887"
             ],
             [
              0.1111111111111111,
              "#46039f"
             ],
             [
              0.2222222222222222,
              "#7201a8"
             ],
             [
              0.3333333333333333,
              "#9c179e"
             ],
             [
              0.4444444444444444,
              "#bd3786"
             ],
             [
              0.5555555555555556,
              "#d8576b"
             ],
             [
              0.6666666666666666,
              "#ed7953"
             ],
             [
              0.7777777777777778,
              "#fb9f3a"
             ],
             [
              0.8888888888888888,
              "#fdca26"
             ],
             [
              1,
              "#f0f921"
             ]
            ],
            "type": "contour"
           }
          ],
          "contourcarpet": [
           {
            "colorbar": {
             "outlinewidth": 0,
             "ticks": ""
            },
            "type": "contourcarpet"
           }
          ],
          "heatmap": [
           {
            "colorbar": {
             "outlinewidth": 0,
             "ticks": ""
            },
            "colorscale": [
             [
              0,
              "#0d0887"
             ],
             [
              0.1111111111111111,
              "#46039f"
             ],
             [
              0.2222222222222222,
              "#7201a8"
             ],
             [
              0.3333333333333333,
              "#9c179e"
             ],
             [
              0.4444444444444444,
              "#bd3786"
             ],
             [
              0.5555555555555556,
              "#d8576b"
             ],
             [
              0.6666666666666666,
              "#ed7953"
             ],
             [
              0.7777777777777778,
              "#fb9f3a"
             ],
             [
              0.8888888888888888,
              "#fdca26"
             ],
             [
              1,
              "#f0f921"
             ]
            ],
            "type": "heatmap"
           }
          ],
          "heatmapgl": [
           {
            "colorbar": {
             "outlinewidth": 0,
             "ticks": ""
            },
            "colorscale": [
             [
              0,
              "#0d0887"
             ],
             [
              0.1111111111111111,
              "#46039f"
             ],
             [
              0.2222222222222222,
              "#7201a8"
             ],
             [
              0.3333333333333333,
              "#9c179e"
             ],
             [
              0.4444444444444444,
              "#bd3786"
             ],
             [
              0.5555555555555556,
              "#d8576b"
             ],
             [
              0.6666666666666666,
              "#ed7953"
             ],
             [
              0.7777777777777778,
              "#fb9f3a"
             ],
             [
              0.8888888888888888,
              "#fdca26"
             ],
             [
              1,
              "#f0f921"
             ]
            ],
            "type": "heatmapgl"
           }
          ],
          "histogram": [
           {
            "marker": {
             "pattern": {
              "fillmode": "overlay",
              "size": 10,
              "solidity": 0.2
             }
            },
            "type": "histogram"
           }
          ],
          "histogram2d": [
           {
            "colorbar": {
             "outlinewidth": 0,
             "ticks": ""
            },
            "colorscale": [
             [
              0,
              "#0d0887"
             ],
             [
              0.1111111111111111,
              "#46039f"
             ],
             [
              0.2222222222222222,
              "#7201a8"
             ],
             [
              0.3333333333333333,
              "#9c179e"
             ],
             [
              0.4444444444444444,
              "#bd3786"
             ],
             [
              0.5555555555555556,
              "#d8576b"
             ],
             [
              0.6666666666666666,
              "#ed7953"
             ],
             [
              0.7777777777777778,
              "#fb9f3a"
             ],
             [
              0.8888888888888888,
              "#fdca26"
             ],
             [
              1,
              "#f0f921"
             ]
            ],
            "type": "histogram2d"
           }
          ],
          "histogram2dcontour": [
           {
            "colorbar": {
             "outlinewidth": 0,
             "ticks": ""
            },
            "colorscale": [
             [
              0,
              "#0d0887"
             ],
             [
              0.1111111111111111,
              "#46039f"
             ],
             [
              0.2222222222222222,
              "#7201a8"
             ],
             [
              0.3333333333333333,
              "#9c179e"
             ],
             [
              0.4444444444444444,
              "#bd3786"
             ],
             [
              0.5555555555555556,
              "#d8576b"
             ],
             [
              0.6666666666666666,
              "#ed7953"
             ],
             [
              0.7777777777777778,
              "#fb9f3a"
             ],
             [
              0.8888888888888888,
              "#fdca26"
             ],
             [
              1,
              "#f0f921"
             ]
            ],
            "type": "histogram2dcontour"
           }
          ],
          "mesh3d": [
           {
            "colorbar": {
             "outlinewidth": 0,
             "ticks": ""
            },
            "type": "mesh3d"
           }
          ],
          "parcoords": [
           {
            "line": {
             "colorbar": {
              "outlinewidth": 0,
              "ticks": ""
             }
            },
            "type": "parcoords"
           }
          ],
          "pie": [
           {
            "automargin": true,
            "type": "pie"
           }
          ],
          "scatter": [
           {
            "fillpattern": {
             "fillmode": "overlay",
             "size": 10,
             "solidity": 0.2
            },
            "type": "scatter"
           }
          ],
          "scatter3d": [
           {
            "line": {
             "colorbar": {
              "outlinewidth": 0,
              "ticks": ""
             }
            },
            "marker": {
             "colorbar": {
              "outlinewidth": 0,
              "ticks": ""
             }
            },
            "type": "scatter3d"
           }
          ],
          "scattercarpet": [
           {
            "marker": {
             "colorbar": {
              "outlinewidth": 0,
              "ticks": ""
             }
            },
            "type": "scattercarpet"
           }
          ],
          "scattergeo": [
           {
            "marker": {
             "colorbar": {
              "outlinewidth": 0,
              "ticks": ""
             }
            },
            "type": "scattergeo"
           }
          ],
          "scattergl": [
           {
            "marker": {
             "colorbar": {
              "outlinewidth": 0,
              "ticks": ""
             }
            },
            "type": "scattergl"
           }
          ],
          "scattermapbox": [
           {
            "marker": {
             "colorbar": {
              "outlinewidth": 0,
              "ticks": ""
             }
            },
            "type": "scattermapbox"
           }
          ],
          "scatterpolar": [
           {
            "marker": {
             "colorbar": {
              "outlinewidth": 0,
              "ticks": ""
             }
            },
            "type": "scatterpolar"
           }
          ],
          "scatterpolargl": [
           {
            "marker": {
             "colorbar": {
              "outlinewidth": 0,
              "ticks": ""
             }
            },
            "type": "scatterpolargl"
           }
          ],
          "scatterternary": [
           {
            "marker": {
             "colorbar": {
              "outlinewidth": 0,
              "ticks": ""
             }
            },
            "type": "scatterternary"
           }
          ],
          "surface": [
           {
            "colorbar": {
             "outlinewidth": 0,
             "ticks": ""
            },
            "colorscale": [
             [
              0,
              "#0d0887"
             ],
             [
              0.1111111111111111,
              "#46039f"
             ],
             [
              0.2222222222222222,
              "#7201a8"
             ],
             [
              0.3333333333333333,
              "#9c179e"
             ],
             [
              0.4444444444444444,
              "#bd3786"
             ],
             [
              0.5555555555555556,
              "#d8576b"
             ],
             [
              0.6666666666666666,
              "#ed7953"
             ],
             [
              0.7777777777777778,
              "#fb9f3a"
             ],
             [
              0.8888888888888888,
              "#fdca26"
             ],
             [
              1,
              "#f0f921"
             ]
            ],
            "type": "surface"
           }
          ],
          "table": [
           {
            "cells": {
             "fill": {
              "color": "#EBF0F8"
             },
             "line": {
              "color": "white"
             }
            },
            "header": {
             "fill": {
              "color": "#C8D4E3"
             },
             "line": {
              "color": "white"
             }
            },
            "type": "table"
           }
          ]
         },
         "layout": {
          "annotationdefaults": {
           "arrowcolor": "#2a3f5f",
           "arrowhead": 0,
           "arrowwidth": 1
          },
          "autotypenumbers": "strict",
          "coloraxis": {
           "colorbar": {
            "outlinewidth": 0,
            "ticks": ""
           }
          },
          "colorscale": {
           "diverging": [
            [
             0,
             "#8e0152"
            ],
            [
             0.1,
             "#c51b7d"
            ],
            [
             0.2,
             "#de77ae"
            ],
            [
             0.3,
             "#f1b6da"
            ],
            [
             0.4,
             "#fde0ef"
            ],
            [
             0.5,
             "#f7f7f7"
            ],
            [
             0.6,
             "#e6f5d0"
            ],
            [
             0.7,
             "#b8e186"
            ],
            [
             0.8,
             "#7fbc41"
            ],
            [
             0.9,
             "#4d9221"
            ],
            [
             1,
             "#276419"
            ]
           ],
           "sequential": [
            [
             0,
             "#0d0887"
            ],
            [
             0.1111111111111111,
             "#46039f"
            ],
            [
             0.2222222222222222,
             "#7201a8"
            ],
            [
             0.3333333333333333,
             "#9c179e"
            ],
            [
             0.4444444444444444,
             "#bd3786"
            ],
            [
             0.5555555555555556,
             "#d8576b"
            ],
            [
             0.6666666666666666,
             "#ed7953"
            ],
            [
             0.7777777777777778,
             "#fb9f3a"
            ],
            [
             0.8888888888888888,
             "#fdca26"
            ],
            [
             1,
             "#f0f921"
            ]
           ],
           "sequentialminus": [
            [
             0,
             "#0d0887"
            ],
            [
             0.1111111111111111,
             "#46039f"
            ],
            [
             0.2222222222222222,
             "#7201a8"
            ],
            [
             0.3333333333333333,
             "#9c179e"
            ],
            [
             0.4444444444444444,
             "#bd3786"
            ],
            [
             0.5555555555555556,
             "#d8576b"
            ],
            [
             0.6666666666666666,
             "#ed7953"
            ],
            [
             0.7777777777777778,
             "#fb9f3a"
            ],
            [
             0.8888888888888888,
             "#fdca26"
            ],
            [
             1,
             "#f0f921"
            ]
           ]
          },
          "colorway": [
           "#636efa",
           "#EF553B",
           "#00cc96",
           "#ab63fa",
           "#FFA15A",
           "#19d3f3",
           "#FF6692",
           "#B6E880",
           "#FF97FF",
           "#FECB52"
          ],
          "font": {
           "color": "#2a3f5f"
          },
          "geo": {
           "bgcolor": "white",
           "lakecolor": "white",
           "landcolor": "#E5ECF6",
           "showlakes": true,
           "showland": true,
           "subunitcolor": "white"
          },
          "hoverlabel": {
           "align": "left"
          },
          "hovermode": "closest",
          "mapbox": {
           "style": "light"
          },
          "paper_bgcolor": "white",
          "plot_bgcolor": "#E5ECF6",
          "polar": {
           "angularaxis": {
            "gridcolor": "white",
            "linecolor": "white",
            "ticks": ""
           },
           "bgcolor": "#E5ECF6",
           "radialaxis": {
            "gridcolor": "white",
            "linecolor": "white",
            "ticks": ""
           }
          },
          "scene": {
           "xaxis": {
            "backgroundcolor": "#E5ECF6",
            "gridcolor": "white",
            "gridwidth": 2,
            "linecolor": "white",
            "showbackground": true,
            "ticks": "",
            "zerolinecolor": "white"
           },
           "yaxis": {
            "backgroundcolor": "#E5ECF6",
            "gridcolor": "white",
            "gridwidth": 2,
            "linecolor": "white",
            "showbackground": true,
            "ticks": "",
            "zerolinecolor": "white"
           },
           "zaxis": {
            "backgroundcolor": "#E5ECF6",
            "gridcolor": "white",
            "gridwidth": 2,
            "linecolor": "white",
            "showbackground": true,
            "ticks": "",
            "zerolinecolor": "white"
           }
          },
          "shapedefaults": {
           "line": {
            "color": "#2a3f5f"
           }
          },
          "ternary": {
           "aaxis": {
            "gridcolor": "white",
            "linecolor": "white",
            "ticks": ""
           },
           "baxis": {
            "gridcolor": "white",
            "linecolor": "white",
            "ticks": ""
           },
           "bgcolor": "#E5ECF6",
           "caxis": {
            "gridcolor": "white",
            "linecolor": "white",
            "ticks": ""
           }
          },
          "title": {
           "x": 0.05
          },
          "xaxis": {
           "automargin": true,
           "gridcolor": "white",
           "linecolor": "white",
           "ticks": "",
           "title": {
            "standoff": 15
           },
           "zerolinecolor": "white",
           "zerolinewidth": 2
          },
          "yaxis": {
           "automargin": true,
           "gridcolor": "white",
           "linecolor": "white",
           "ticks": "",
           "title": {
            "standoff": 15
           },
           "zerolinecolor": "white",
           "zerolinewidth": 2
          }
         }
        }
       }
      }
     },
     "metadata": {},
     "output_type": "display_data"
    }
   ],
   "source": [
    "import plotly.graph_objects as go\n",
    "\n",
    "# 自定義的年月份標籤\n",
    "month_labels = ['2021/01', '2021/02', '2021/03', '2021/04', '2021/05', '2021/06',\n",
    "               '2021/07', '2021/08', '2021/09', '2021/10', '2021/11', '2021/12',\n",
    "               '2022/01', '2022/02', '2022/03', '2022/04', '2022/05', '2022/06',\n",
    "               '2022/07', '2022/08', '2022/09', '2022/10', '2022/11', '2022/12']\n",
    "\n",
    "# 創建 Polar Charts\n",
    "fig = go.Figure()\n",
    "\n",
    "# 添加數據到圖表，並設定標籤文本\n",
    "# fig.add_trace(go.Scatterpolar(\n",
    "#     name='相對濕度',\n",
    "#     r=df_location['相對濕度'].tolist(),\n",
    "#     theta=month_labels,\n",
    "#     mode='markers',  # 使用 'lines+markers' 顯示線段和點\n",
    "#     marker=dict(\n",
    "#         size=10,\n",
    "#         color=df_location['相對濕度'].tolist(),  # 根據 r 值設定顏色\n",
    "#         colorscale='Blues',  # 設定顏色漸層\n",
    "#         # colorbar=dict(\n",
    "#         #     title='相對濕度'  # 設定顏色軸標題\n",
    "#         # ),\n",
    "#         cmin=0.9*min(df_location['相對濕度'].tolist()),  # 設定顏色漸層最小值\n",
    "#         cmax=max(df_location['相對濕度'].tolist())  # 設定顏色漸層最大值\n",
    "#     ),\n",
    "    \n",
    "#     line=dict(\n",
    "#         color='blue',\n",
    "#         width=1\n",
    "#     ),\n",
    "#     text=month_labels,  # 設定標籤文本為年月份\n",
    "#     hovertemplate=\"日期: %{text}<br>percent: %{r} %<br>\",  # 定義 hover 顯示的文本格式\n",
    "# ))\n",
    "fig.add_trace(go.Scatterpolar(\n",
    "    name='細懸浮微粒',\n",
    "    r=df_location['相對濕度'].tolist(),\n",
    "    theta=month_labels,\n",
    "    mode='markers',  # 使用 'lines+markers' 顯示線段和點\n",
    "    marker=dict(\n",
    "        color=df_location['細懸浮微粒'].tolist(),  # 根據 r 值設定顏色\n",
    "        # symbol=df_location['細懸浮微粒'].tolist(),\n",
    "        colorscale='Reds',  # 設定顏色漸層\n",
    "        size = 10,\n",
    "        colorbar=dict(\n",
    "            title='細懸浮微粒'  # 設定顏色軸標題\n",
    "        ),\n",
    "        cmin=0.9*min(df_location['細懸浮微粒'].tolist()),  # 設定顏色漸層最小值\n",
    "        cmax=max(df_location['細懸浮微粒'].tolist())  # 設定顏色漸層最大值\n",
    "    ),\n",
    "    line=dict(\n",
    "        color='blue',\n",
    "        width=1\n",
    "    ),\n",
    "    # text=month_labels,  # 設定標籤文本為年月份\n",
    "    # hovertemplate=\"日期: %{text}<br>μg/m3: %{r}<br>\",  # 定義 hover 顯示的文本格式\n",
    "))\n",
    "\n",
    "# 設定角度刻度和標籤，並且顏色填充用藍色根據r值由小到大漸層\n",
    "fig.update_layout(\n",
    "    polar=dict(\n",
    "        radialaxis=dict(\n",
    "            angle=0,\n",
    "            tickvals=angle_mapping,\n",
    "            ticks=\"outside\",\n",
    "            tickmode='array',\n",
    "            tickfont=dict(\n",
    "                size=8,\n",
    "            )\n",
    "        )\n",
    "    ),\n",
    "    height=600,\n",
    "    # width=600,\n",
    "    # showlegend=False\n",
    ")\n",
    "\n",
    "# 顯示圖表\n",
    "fig.show()"
   ]
  },
  {
   "cell_type": "code",
   "execution_count": 1,
   "metadata": {},
   "outputs": [
    {
     "ename": "NameError",
     "evalue": "name 'df_location' is not defined",
     "output_type": "error",
     "traceback": [
      "\u001b[1;31m---------------------------------------------------------------------------\u001b[0m",
      "\u001b[1;31mNameError\u001b[0m                                 Traceback (most recent call last)",
      "\u001b[1;32m~\\AppData\\Local\\Temp\\ipykernel_4628\\4242372553.py\u001b[0m in \u001b[0;36m<module>\u001b[1;34m\u001b[0m\n\u001b[0;32m     13\u001b[0m fig.add_trace(go.Scatterpolar(\n\u001b[0;32m     14\u001b[0m     \u001b[0mname\u001b[0m\u001b[1;33m=\u001b[0m\u001b[1;34m'相對濕度'\u001b[0m\u001b[1;33m,\u001b[0m\u001b[1;33m\u001b[0m\u001b[1;33m\u001b[0m\u001b[0m\n\u001b[1;32m---> 15\u001b[1;33m     \u001b[0mr\u001b[0m\u001b[1;33m=\u001b[0m\u001b[0mdf_location\u001b[0m\u001b[1;33m[\u001b[0m\u001b[1;34m'相對濕度'\u001b[0m\u001b[1;33m]\u001b[0m\u001b[1;33m.\u001b[0m\u001b[0mtolist\u001b[0m\u001b[1;33m(\u001b[0m\u001b[1;33m)\u001b[0m\u001b[1;33m,\u001b[0m\u001b[1;33m\u001b[0m\u001b[1;33m\u001b[0m\u001b[0m\n\u001b[0m\u001b[0;32m     16\u001b[0m     \u001b[0mtheta\u001b[0m\u001b[1;33m=\u001b[0m\u001b[0mmonth_labels\u001b[0m\u001b[1;33m,\u001b[0m\u001b[1;33m\u001b[0m\u001b[1;33m\u001b[0m\u001b[0m\n\u001b[0;32m     17\u001b[0m     \u001b[0mmode\u001b[0m\u001b[1;33m=\u001b[0m\u001b[1;34m'markers'\u001b[0m\u001b[1;33m,\u001b[0m  \u001b[1;31m# 使用 'lines+markers' 顯示線段和點\u001b[0m\u001b[1;33m\u001b[0m\u001b[1;33m\u001b[0m\u001b[0m\n",
      "\u001b[1;31mNameError\u001b[0m: name 'df_location' is not defined"
     ]
    }
   ],
   "source": [
    "import plotly.graph_objects as go\n",
    "\n",
    "# 自定義的年月份標籤\n",
    "month_labels = ['2021/01', '2021/02', '2021/03', '2021/04', '2021/05', '2021/06',\n",
    "               '2021/07', '2021/08', '2021/09', '2021/10', '2021/11', '2021/12',\n",
    "               '2022/01', '2022/02', '2022/03', '2022/04', '2022/05', '2022/06',\n",
    "               '2022/07', '2022/08', '2022/09', '2022/10', '2022/11', '2022/12']\n",
    "\n",
    "# 創建 Polar Charts\n",
    "fig = go.Figure()\n",
    "\n",
    "# 添加數據到圖表，並設定標籤文本\n",
    "fig.add_trace(go.Scatterpolar(\n",
    "    name='相對濕度',\n",
    "    r=df_location['相對濕度'].tolist(),\n",
    "    theta=month_labels,\n",
    "    mode='markers',  # 使用 'lines+markers' 顯示線段和點\n",
    "    marker=dict(\n",
    "        size=10,\n",
    "        color=df_location['相對濕度'].tolist(),  # 根據 r 值設定顏色\n",
    "        colorscale='Blues',  # 設定顏色漸層\n",
    "        colorbar=dict(\n",
    "            title='相對濕度',\n",
    "            len=0.4,\n",
    "            y=0.25,\n",
    "            x=1.1,\n",
    "            tickfont=dict(\n",
    "                size=9,\n",
    "            ),\n",
    "            xpad=2\n",
    "        ),\n",
    "        cmin=0.9*min(df_location['相對濕度'].tolist()),  # 設定顏色漸層最小值\n",
    "        cmax=max(df_location['相對濕度'].tolist())  # 設定顏色漸層最大值\n",
    "    ),\n",
    "    \n",
    "    line=dict(\n",
    "        color='blue',\n",
    "        width=1\n",
    "    ),\n",
    "    text=month_labels,  # 設定標籤文本為年月份\n",
    "    hovertemplate=\"日期: %{text}<br>percent: %{r} %<br>\",  # 定義 hover 顯示的文本格式\n",
    "))\n",
    "fig.add_trace(go.Scatterpolar(\n",
    "    name='細懸浮微粒',\n",
    "    r=df_location['細懸浮微粒'].tolist(),\n",
    "    theta=month_labels,\n",
    "    mode='markers',  # 使用 'lines+markers' 顯示線段和點\n",
    "    marker=dict(\n",
    "        size=10,\n",
    "        color=df_location['細懸浮微粒'].tolist(),  # 根據 r 值設定顏色\n",
    "        colorscale='Reds',  # 設定顏色漸層,\n",
    "        colorbar=dict(\n",
    "            title='細懸浮微粒',\n",
    "            len=0.4,\n",
    "            y=0.25,\n",
    "            x=0.9,\n",
    "            tickfont=dict(\n",
    "                size=9,\n",
    "            ),\n",
    "            xpad=2\n",
    "        ),\n",
    "        cmin=0.9*min(df_location['細懸浮微粒'].tolist()),  # 設定顏色漸層最小值\n",
    "        cmax=max(df_location['細懸浮微粒'].tolist())  # 設定顏色漸層最大值\n",
    "    ),\n",
    "    line=dict(\n",
    "        color='blue',\n",
    "        width=1\n",
    "    ),\n",
    "    text=month_labels,  # 設定標籤文本為年月份\n",
    "    hovertemplate=\"日期: %{text}<br>μg/m3: %{r}<br>\",  # 定義 hover 顯示的文本格式\n",
    "))\n",
    "fig.add_trace(go.Scatterpolar(\n",
    "    name='懸浮微粒',\n",
    "    r=df_location['懸浮微粒'].tolist(),\n",
    "    theta=month_labels,\n",
    "    mode='markers',  # 使用 'lines+markers' 顯示線段和點\n",
    "    marker=dict(\n",
    "        size=10,\n",
    "        color=df_location['懸浮微粒'].tolist(),  # 根據 r 值設定顏色\n",
    "        colorscale='Greens',  # 設定顏色漸層\n",
    "        colorbar=dict(\n",
    "            title='懸浮微粒',\n",
    "            len=0.4,\n",
    "            y=0.25,\n",
    "            x=1,\n",
    "            tickfont=dict(\n",
    "                size=9,\n",
    "            ),\n",
    "            xpad=2\n",
    "        ),\n",
    "        cmin=min(df_location['懸浮微粒'].tolist()),  # 設定顏色漸層最小值\n",
    "        cmax=0.9*max(df_location['懸浮微粒'].tolist())  # 設定顏色漸層最大值\n",
    "    ),\n",
    "    line=dict(\n",
    "        color='blue',\n",
    "        width=1\n",
    "    ),\n",
    "    text=month_labels,  # 設定標籤文本為年月份\n",
    "    hovertemplate=\"日期: %{text}<br>μg/m3: %{r}<br>\",  # 定義 hover 顯示的文本格式 \n",
    "))\n",
    "\n",
    "# 設定角度刻度和標籤，並且顏色填充用藍色根據r值由小到大漸層\n",
    "fig.update_layout(\n",
    "    polar=dict(\n",
    "        radialaxis=dict(\n",
    "            angle=0,\n",
    "            tickvals=angle_mapping,\n",
    "            ticks=\"outside\",\n",
    "            tickmode='array',\n",
    "            tickfont=dict(\n",
    "                size=8,\n",
    "            )\n",
    "        )\n",
    "    ),\n",
    "    height=600,\n",
    "    # coloraxis_colorbar=colorbar\n",
    ")\n",
    "\n",
    "# 顯示圖表\n",
    "fig.show()"
   ]
  },
  {
   "cell_type": "code",
   "execution_count": null,
   "metadata": {},
   "outputs": [],
   "source": [
    "import plotly.graph_objects as go\n",
    "\n",
    "# 設定角度刻度和標籤\n",
    "angles = [i * 15 for i in range(24)]  # 每十五度一個刻度\n",
    "labels = [str(i) + \"°\" for i in angles]  # 刻度標籤\n",
    "\n",
    "# 創建 Polar Chart\n",
    "fig = go.Figure()\n",
    "\n",
    "# 添加從中心往外的線\n",
    "for angle in angles:\n",
    "    fig.add_trace(go.Scatterpolar(\n",
    "        r=[0, 1],  # 從中心 (r=0) 繪製到半徑為 1 的線\n",
    "        theta=[angle, angle],  # 角度起點和終點相同，畫一條直線\n",
    "        mode='lines',\n",
    "        line=dict(\n",
    "            color='black',\n",
    "            width=1\n",
    "        ),\n",
    "        hoverinfo='skip'  # 不顯示 hover 資訊\n",
    "    ))\n",
    "\n",
    "# 設定角度刻度和標籤\n",
    "fig.update_layout(\n",
    "    polar=dict(\n",
    "        radialaxis=dict(\n",
    "            visible=False  # 隱藏半徑軸\n",
    "        ),\n",
    "        angularaxis=dict(\n",
    "            tickvals=angles,\n",
    "            ticktext=labels,\n",
    "            tickmode='array',\n",
    "            tickfont=dict(\n",
    "                size=8,\n",
    "            )\n",
    "        )\n",
    "    )\n",
    ")\n",
    "\n",
    "# 顯示圖表\n",
    "fig.show()\n"
   ]
  }
 ],
 "metadata": {
  "kernelspec": {
   "display_name": "text",
   "language": "python",
   "name": "python3"
  },
  "language_info": {
   "codemirror_mode": {
    "name": "ipython",
    "version": 3
   },
   "file_extension": ".py",
   "mimetype": "text/x-python",
   "name": "python",
   "nbconvert_exporter": "python",
   "pygments_lexer": "ipython3",
   "version": "3.7.13"
  },
  "orig_nbformat": 4
 },
 "nbformat": 4,
 "nbformat_minor": 2
}
